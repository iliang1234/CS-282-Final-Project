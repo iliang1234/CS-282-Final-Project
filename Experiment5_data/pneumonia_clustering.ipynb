{
  "cells": [
    {
      "cell_type": "code",
      "execution_count": null,
      "metadata": {
        "id": "DMSgi8fUxV8h"
      },
      "outputs": [],
      "source": [
        "import pandas as pd\n",
        "import numpy as np\n",
        "from numpy.lib.stride_tricks import sliding_window_view\n",
        "import os, pickle\n",
        "import matplotlib.pyplot as plt\n",
        "\n",
        "from sklearn.cluster import KMeans, DBSCAN, SpectralClustering, AgglomerativeClustering, MiniBatchKMeans, Birch, OPTICS\n",
        "import tensorflow as tf\n",
        "from sklearn.preprocessing import OneHotEncoder\n",
        "import seaborn as sns\n",
        "\n",
        "from itertools import product\n",
        "\n",
        "import sys, os\n",
        "\n",
        "import trajectory as T                      # trajectory generation\n",
        "import optimizer as O                       # stochastic gradient descent optimizer\n",
        "import solver as S                          # MDP solver (value-iteration)\n",
        "import plot as P"
      ]
    },
    {
      "cell_type": "code",
      "execution_count": null,
      "metadata": {
        "id": "-3oLR1OQwKJL"
      },
      "outputs": [],
      "source": [
        "import pickle\n",
        "import pandas as pd\n",
        "\n",
        "with open(\"X_df_pneumonia.pkl\", 'rb') as file:\n",
        "    X_df = pickle.load(file)\n",
        "\n",
        "with open(\"y_df_pneumonia.pkl\", 'rb') as file:\n",
        "    y_df = pickle.load(file)\n",
        "\n",
        "with open(\"data_df_pneumonia.pkl\", 'rb') as file:\n",
        "    data_df = pickle.load(file)\n",
        "\n",
        "with open(\"data_non_normalized_df_pneumonia.pkl\", 'rb') as file:\n",
        "    data_non_normalized_df = pickle.load(file)"
      ]
    },
    {
      "cell_type": "code",
      "execution_count": null,
      "metadata": {
        "colab": {
          "base_uri": "https://localhost:8080/",
          "height": 129
        },
        "id": "SgLoG1Usw2Za",
        "outputId": "9c130060-54aa-4cb6-8e7d-148d780d9bb2"
      },
      "outputs": [
        {
          "name": "stderr",
          "output_type": "stream",
          "text": [
            "/usr/local/lib/python3.10/dist-packages/sklearn/cluster/_kmeans.py:870: FutureWarning: The default value of `n_init` will change from 3 to 'auto' in 1.4. Set the value of `n_init` explicitly to suppress the warning\n",
            "  warnings.warn(\n"
          ]
        },
        {
          "data": {
            "text/html": [
              "<style>#sk-container-id-1 {color: black;background-color: white;}#sk-container-id-1 pre{padding: 0;}#sk-container-id-1 div.sk-toggleable {background-color: white;}#sk-container-id-1 label.sk-toggleable__label {cursor: pointer;display: block;width: 100%;margin-bottom: 0;padding: 0.3em;box-sizing: border-box;text-align: center;}#sk-container-id-1 label.sk-toggleable__label-arrow:before {content: \"▸\";float: left;margin-right: 0.25em;color: #696969;}#sk-container-id-1 label.sk-toggleable__label-arrow:hover:before {color: black;}#sk-container-id-1 div.sk-estimator:hover label.sk-toggleable__label-arrow:before {color: black;}#sk-container-id-1 div.sk-toggleable__content {max-height: 0;max-width: 0;overflow: hidden;text-align: left;background-color: #f0f8ff;}#sk-container-id-1 div.sk-toggleable__content pre {margin: 0.2em;color: black;border-radius: 0.25em;background-color: #f0f8ff;}#sk-container-id-1 input.sk-toggleable__control:checked~div.sk-toggleable__content {max-height: 200px;max-width: 100%;overflow: auto;}#sk-container-id-1 input.sk-toggleable__control:checked~label.sk-toggleable__label-arrow:before {content: \"▾\";}#sk-container-id-1 div.sk-estimator input.sk-toggleable__control:checked~label.sk-toggleable__label {background-color: #d4ebff;}#sk-container-id-1 div.sk-label input.sk-toggleable__control:checked~label.sk-toggleable__label {background-color: #d4ebff;}#sk-container-id-1 input.sk-hidden--visually {border: 0;clip: rect(1px 1px 1px 1px);clip: rect(1px, 1px, 1px, 1px);height: 1px;margin: -1px;overflow: hidden;padding: 0;position: absolute;width: 1px;}#sk-container-id-1 div.sk-estimator {font-family: monospace;background-color: #f0f8ff;border: 1px dotted black;border-radius: 0.25em;box-sizing: border-box;margin-bottom: 0.5em;}#sk-container-id-1 div.sk-estimator:hover {background-color: #d4ebff;}#sk-container-id-1 div.sk-parallel-item::after {content: \"\";width: 100%;border-bottom: 1px solid gray;flex-grow: 1;}#sk-container-id-1 div.sk-label:hover label.sk-toggleable__label {background-color: #d4ebff;}#sk-container-id-1 div.sk-serial::before {content: \"\";position: absolute;border-left: 1px solid gray;box-sizing: border-box;top: 0;bottom: 0;left: 50%;z-index: 0;}#sk-container-id-1 div.sk-serial {display: flex;flex-direction: column;align-items: center;background-color: white;padding-right: 0.2em;padding-left: 0.2em;position: relative;}#sk-container-id-1 div.sk-item {position: relative;z-index: 1;}#sk-container-id-1 div.sk-parallel {display: flex;align-items: stretch;justify-content: center;background-color: white;position: relative;}#sk-container-id-1 div.sk-item::before, #sk-container-id-1 div.sk-parallel-item::before {content: \"\";position: absolute;border-left: 1px solid gray;box-sizing: border-box;top: 0;bottom: 0;left: 50%;z-index: -1;}#sk-container-id-1 div.sk-parallel-item {display: flex;flex-direction: column;z-index: 1;position: relative;background-color: white;}#sk-container-id-1 div.sk-parallel-item:first-child::after {align-self: flex-end;width: 50%;}#sk-container-id-1 div.sk-parallel-item:last-child::after {align-self: flex-start;width: 50%;}#sk-container-id-1 div.sk-parallel-item:only-child::after {width: 0;}#sk-container-id-1 div.sk-dashed-wrapped {border: 1px dashed gray;margin: 0 0.4em 0.5em 0.4em;box-sizing: border-box;padding-bottom: 0.4em;background-color: white;}#sk-container-id-1 div.sk-label label {font-family: monospace;font-weight: bold;display: inline-block;line-height: 1.2em;}#sk-container-id-1 div.sk-label-container {text-align: center;}#sk-container-id-1 div.sk-container {/* jupyter's `normalize.less` sets `[hidden] { display: none; }` but bootstrap.min.css set `[hidden] { display: none !important; }` so we also need the `!important` here to be able to override the default hidden behavior on the sphinx rendered scikit-learn.org. See: https://github.com/scikit-learn/scikit-learn/issues/21755 */display: inline-block !important;position: relative;}#sk-container-id-1 div.sk-text-repr-fallback {display: none;}</style><div id=\"sk-container-id-1\" class=\"sk-top-container\"><div class=\"sk-text-repr-fallback\"><pre>MiniBatchKMeans(n_clusters=100, random_state=0)</pre><b>In a Jupyter environment, please rerun this cell to show the HTML representation or trust the notebook. <br />On GitHub, the HTML representation is unable to render, please try loading this page with nbviewer.org.</b></div><div class=\"sk-container\" hidden><div class=\"sk-item\"><div class=\"sk-estimator sk-toggleable\"><input class=\"sk-toggleable__control sk-hidden--visually\" id=\"sk-estimator-id-1\" type=\"checkbox\" checked><label for=\"sk-estimator-id-1\" class=\"sk-toggleable__label sk-toggleable__label-arrow\">MiniBatchKMeans</label><div class=\"sk-toggleable__content\"><pre>MiniBatchKMeans(n_clusters=100, random_state=0)</pre></div></div></div></div></div>"
            ],
            "text/plain": [
              "MiniBatchKMeans(n_clusters=100, random_state=0)"
            ]
          },
          "execution_count": 3,
          "metadata": {},
          "output_type": "execute_result"
        }
      ],
      "source": [
        "num_clusters = 100\n",
        "mbk = MiniBatchKMeans(n_clusters= num_clusters, random_state=0)\n",
        "mbk.fit(X_df)"
      ]
    },
    {
      "cell_type": "code",
      "execution_count": null,
      "metadata": {
        "colab": {
          "background_save": true,
          "base_uri": "https://localhost:8080/"
        },
        "id": "Y8S7KOj5_6my",
        "outputId": "52923e1e-5bc3-4447-dea6-33d235a76f1b"
      },
      "outputs": [
        {
          "name": "stderr",
          "output_type": "stream",
          "text": [
            "/usr/local/lib/python3.10/dist-packages/sklearn/cluster/_kmeans.py:870: FutureWarning: The default value of `n_init` will change from 10 to 'auto' in 1.4. Set the value of `n_init` explicitly to suppress the warning\n",
            "  warnings.warn(\n"
          ]
        },
        {
          "data": {
            "text/html": [
              "<style>#sk-container-id-2 {color: black;background-color: white;}#sk-container-id-2 pre{padding: 0;}#sk-container-id-2 div.sk-toggleable {background-color: white;}#sk-container-id-2 label.sk-toggleable__label {cursor: pointer;display: block;width: 100%;margin-bottom: 0;padding: 0.3em;box-sizing: border-box;text-align: center;}#sk-container-id-2 label.sk-toggleable__label-arrow:before {content: \"▸\";float: left;margin-right: 0.25em;color: #696969;}#sk-container-id-2 label.sk-toggleable__label-arrow:hover:before {color: black;}#sk-container-id-2 div.sk-estimator:hover label.sk-toggleable__label-arrow:before {color: black;}#sk-container-id-2 div.sk-toggleable__content {max-height: 0;max-width: 0;overflow: hidden;text-align: left;background-color: #f0f8ff;}#sk-container-id-2 div.sk-toggleable__content pre {margin: 0.2em;color: black;border-radius: 0.25em;background-color: #f0f8ff;}#sk-container-id-2 input.sk-toggleable__control:checked~div.sk-toggleable__content {max-height: 200px;max-width: 100%;overflow: auto;}#sk-container-id-2 input.sk-toggleable__control:checked~label.sk-toggleable__label-arrow:before {content: \"▾\";}#sk-container-id-2 div.sk-estimator input.sk-toggleable__control:checked~label.sk-toggleable__label {background-color: #d4ebff;}#sk-container-id-2 div.sk-label input.sk-toggleable__control:checked~label.sk-toggleable__label {background-color: #d4ebff;}#sk-container-id-2 input.sk-hidden--visually {border: 0;clip: rect(1px 1px 1px 1px);clip: rect(1px, 1px, 1px, 1px);height: 1px;margin: -1px;overflow: hidden;padding: 0;position: absolute;width: 1px;}#sk-container-id-2 div.sk-estimator {font-family: monospace;background-color: #f0f8ff;border: 1px dotted black;border-radius: 0.25em;box-sizing: border-box;margin-bottom: 0.5em;}#sk-container-id-2 div.sk-estimator:hover {background-color: #d4ebff;}#sk-container-id-2 div.sk-parallel-item::after {content: \"\";width: 100%;border-bottom: 1px solid gray;flex-grow: 1;}#sk-container-id-2 div.sk-label:hover label.sk-toggleable__label {background-color: #d4ebff;}#sk-container-id-2 div.sk-serial::before {content: \"\";position: absolute;border-left: 1px solid gray;box-sizing: border-box;top: 0;bottom: 0;left: 50%;z-index: 0;}#sk-container-id-2 div.sk-serial {display: flex;flex-direction: column;align-items: center;background-color: white;padding-right: 0.2em;padding-left: 0.2em;position: relative;}#sk-container-id-2 div.sk-item {position: relative;z-index: 1;}#sk-container-id-2 div.sk-parallel {display: flex;align-items: stretch;justify-content: center;background-color: white;position: relative;}#sk-container-id-2 div.sk-item::before, #sk-container-id-2 div.sk-parallel-item::before {content: \"\";position: absolute;border-left: 1px solid gray;box-sizing: border-box;top: 0;bottom: 0;left: 50%;z-index: -1;}#sk-container-id-2 div.sk-parallel-item {display: flex;flex-direction: column;z-index: 1;position: relative;background-color: white;}#sk-container-id-2 div.sk-parallel-item:first-child::after {align-self: flex-end;width: 50%;}#sk-container-id-2 div.sk-parallel-item:last-child::after {align-self: flex-start;width: 50%;}#sk-container-id-2 div.sk-parallel-item:only-child::after {width: 0;}#sk-container-id-2 div.sk-dashed-wrapped {border: 1px dashed gray;margin: 0 0.4em 0.5em 0.4em;box-sizing: border-box;padding-bottom: 0.4em;background-color: white;}#sk-container-id-2 div.sk-label label {font-family: monospace;font-weight: bold;display: inline-block;line-height: 1.2em;}#sk-container-id-2 div.sk-label-container {text-align: center;}#sk-container-id-2 div.sk-container {/* jupyter's `normalize.less` sets `[hidden] { display: none; }` but bootstrap.min.css set `[hidden] { display: none !important; }` so we also need the `!important` here to be able to override the default hidden behavior on the sphinx rendered scikit-learn.org. See: https://github.com/scikit-learn/scikit-learn/issues/21755 */display: inline-block !important;position: relative;}#sk-container-id-2 div.sk-text-repr-fallback {display: none;}</style><div id=\"sk-container-id-2\" class=\"sk-top-container\"><div class=\"sk-text-repr-fallback\"><pre>Birch(n_clusters=100, threshold=2)</pre><b>In a Jupyter environment, please rerun this cell to show the HTML representation or trust the notebook. <br />On GitHub, the HTML representation is unable to render, please try loading this page with nbviewer.org.</b></div><div class=\"sk-container\" hidden><div class=\"sk-item\"><div class=\"sk-estimator sk-toggleable\"><input class=\"sk-toggleable__control sk-hidden--visually\" id=\"sk-estimator-id-2\" type=\"checkbox\" checked><label for=\"sk-estimator-id-2\" class=\"sk-toggleable__label sk-toggleable__label-arrow\">Birch</label><div class=\"sk-toggleable__content\"><pre>Birch(n_clusters=100, threshold=2)</pre></div></div></div></div></div>"
            ],
            "text/plain": [
              "Birch(n_clusters=100, threshold=2)"
            ]
          },
          "execution_count": 4,
          "metadata": {},
          "output_type": "execute_result"
        }
      ],
      "source": [
        "kmeans = KMeans(n_clusters= num_clusters, random_state=0)\n",
        "kmeans.fit(X_df)\n",
        "b = Birch(n_clusters=num_clusters, threshold=2)\n",
        "b.fit(X_df)"
      ]
    },
    {
      "cell_type": "code",
      "execution_count": null,
      "metadata": {
        "colab": {
          "background_save": true
        },
        "id": "FOdD0MAsyVU3",
        "outputId": "781a22de-b705-4ab1-adac-5b233febc23e"
      },
      "outputs": [
        {
          "data": {
            "text/plain": [
              "array([ 566,  233,  193, 1348,    3,  274,  657,   87,  565,  198, 1313,\n",
              "       1414,  739,  225,  159,  715,  434, 1405,  290,  643,  126,  256,\n",
              "        614,  635,  115,  168,   24,  116,  520,  987,   76,  252,  684,\n",
              "        490,  280,  913,  649,  275,   20,  115,  120,  371,  303,  811,\n",
              "        405,  500,  420,   90,  495,  266,  286,  169,  251,  424,  259,\n",
              "        179,  539,  347,  208,  167,  871,  392,  148,  184,  557,  637,\n",
              "         81,  975,  500,  189,  638,  308,  304,  268, 7326,   80,  254,\n",
              "        248,  403,  278,  144,  135,   88,  219,  345,  435,  624,  621,\n",
              "        119, 2168,  397,  925,  147,  212,  599,  133, 2285, 1637, 1579,\n",
              "         70])"
            ]
          },
          "execution_count": 5,
          "metadata": {},
          "output_type": "execute_result"
        }
      ],
      "source": [
        "np.unique(mbk.labels_, return_counts = True)[1]"
      ]
    },
    {
      "cell_type": "code",
      "execution_count": null,
      "metadata": {
        "colab": {
          "background_save": true
        },
        "id": "s0BCDLNyACaV",
        "outputId": "5b49d823-6a8d-4084-d163-afb81d0068fc"
      },
      "outputs": [
        {
          "data": {
            "text/plain": [
              "array([ 649, 7815,  161, 2438,  603,  435, 1259, 2400, 1263,   28, 1579,\n",
              "        254, 1238,  434,  303,  657,  725,  500,  655,  493,  530,  505,\n",
              "       2028,   96,  925,  290, 2168,  135,  937, 1859,  987,  110,  393,\n",
              "        599,  238,  147,  274,  165,  225,  124,  397,   21,  200,   73,\n",
              "        638,  300,  831,  643,  117,  500,  278,  196,  509,  251,  146,\n",
              "         64,  266,  822,  169,  539,  135,  399,  424,  248,  378,  557,\n",
              "         94,  148,  179,   81,  189,  343,  110,  248,   72,  133,  468,\n",
              "        144,  556,  594,  120,  403,  219,  614,  107,  315,   44,   56,\n",
              "        119,   42,  112,  392,  156,  284,   81,  142,   87,  289,  180,\n",
              "         63])"
            ]
          },
          "execution_count": 6,
          "metadata": {},
          "output_type": "execute_result"
        }
      ],
      "source": [
        "np.unique(kmeans.labels_, return_counts = True)[1]"
      ]
    },
    {
      "cell_type": "code",
      "execution_count": null,
      "metadata": {
        "colab": {
          "background_save": true
        },
        "id": "TYORxSQYAG_e",
        "outputId": "616df9fb-d687-4e70-cabd-dd83d696439b"
      },
      "outputs": [
        {
          "data": {
            "text/plain": [
              "array([ 645,  120,  945,  619,  885,  770,  557,  826,  649, 1265,   60,\n",
              "        505,  133, 1962,  383,   18,   90,  169,  289,  148,  724, 1023,\n",
              "        315,  684,  276,  124,  500,  987, 1259,  455, 2400,  420,  204,\n",
              "       1130,   42,   16,  212,  265,   80,  657,   40,  146,  300,  468,\n",
              "        490,  378,   57,  115,  120,   88,   72, 2168,  248,  196,  251,\n",
              "        303,  387,  278,   87, 7815,  261,  182,   56,   15,  212, 1238,\n",
              "        457,  110,  147,  189,  725,  424,  811,  219,   44,  107,  144,\n",
              "         59, 2028,  509,  434,  594, 2392, 1579,   36,   21,  156,   40,\n",
              "        254,   50,  110,  216,  248,  556,  135,  144,   78,  530,  238,\n",
              "        343])"
            ]
          },
          "execution_count": 7,
          "metadata": {},
          "output_type": "execute_result"
        }
      ],
      "source": [
        "np.unique(b.labels_, return_counts = True)[1]"
      ]
    },
    {
      "cell_type": "code",
      "execution_count": null,
      "metadata": {
        "id": "aPiLF1ZxyZlA"
      },
      "outputs": [],
      "source": [
        "X_df['k_cluster'] = kmeans.labels_.copy()\n",
        "data_df['k_cluster'] = kmeans.labels_.copy()\n",
        "data_non_normalized_df['k_cluster'] = kmeans.labels_.copy()\n",
        "\n",
        "X_df['m_cluster'] = mbk.labels_.copy()\n",
        "data_df['m_cluster'] = mbk.labels_.copy()\n",
        "data_non_normalized_df['m_cluster'] = mbk.labels_.copy()\n",
        "\n",
        "X_df['b_cluster'] = b.labels_.copy()\n",
        "data_df['b_cluster'] = b.labels_.copy()\n",
        "data_non_normalized_df['b_cluster'] = b.labels_.copy()"
      ]
    },
    {
      "cell_type": "code",
      "execution_count": null,
      "metadata": {
        "colab": {
          "background_save": true
        },
        "id": "LXwYprCuychZ"
      },
      "outputs": [],
      "source": [
        "clusters = {}\n",
        "for i in range(100):\n",
        "  cluster = i\n",
        "  data = data_non_normalized_df[(data_non_normalized_df['m_cluster'] == i)]\n",
        "  clusters[i] = data.mean().to_dict()\n",
        "  clusters[i]['index'] = i\n",
        "\n",
        "m_full_dict_consolidated = []\n",
        "for i in clusters:\n",
        "  index = clusters[i]['index']\n",
        "  for key, value in clusters[i].items():\n",
        "    m_full_dict_consolidated.append({'index': index, 'feature': key, \"mean\": value})"
      ]
    },
    {
      "cell_type": "code",
      "execution_count": null,
      "metadata": {
        "colab": {
          "background_save": true
        },
        "id": "SsgZS6mdAf5f"
      },
      "outputs": [],
      "source": [
        "clusters = {}\n",
        "for i in range(100):\n",
        "  cluster = i\n",
        "  data = data_non_normalized_df[(data_non_normalized_df['k_cluster'] == i)]\n",
        "  clusters[i] = data.mean().to_dict()\n",
        "  clusters[i]['index'] = i\n",
        "\n",
        "k_full_dict_consolidated = []\n",
        "for i in clusters:\n",
        "  index = clusters[i]['index']\n",
        "  for key, value in clusters[i].items():\n",
        "    k_full_dict_consolidated.append({'index': index, 'feature': key, \"mean\": value})"
      ]
    },
    {
      "cell_type": "code",
      "execution_count": null,
      "metadata": {
        "colab": {
          "background_save": true
        },
        "id": "DU8JtiSYAVrm"
      },
      "outputs": [],
      "source": [
        "clusters = {}\n",
        "for i in range(100):\n",
        "  cluster = i\n",
        "  data = data_non_normalized_df[(data_non_normalized_df['b_cluster'] == i)]\n",
        "  clusters[i] = data.mean().to_dict()\n",
        "  clusters[i]['index'] = i\n",
        "\n",
        "b_full_dict_consolidated = []\n",
        "for i in clusters:\n",
        "  index = clusters[i]['index']\n",
        "  for key, value in clusters[i].items():\n",
        "    b_full_dict_consolidated.append({'index': index, 'feature': key, \"mean\": value})"
      ]
    },
    {
      "cell_type": "code",
      "execution_count": null,
      "metadata": {
        "colab": {
          "background_save": true
        },
        "id": "9uRORYKrygwi"
      },
      "outputs": [],
      "source": [
        "m_df = pd.DataFrame(m_full_dict_consolidated)\n",
        "m_pivoted_df = m_df.pivot(index='feature', columns='index', values='mean')\n",
        "\n",
        "k_df = pd.DataFrame(k_full_dict_consolidated)\n",
        "k_pivoted_df = m_df.pivot(index='feature', columns='index', values='mean')\n",
        "\n",
        "b_df = pd.DataFrame(b_full_dict_consolidated)\n",
        "b_pivoted_df = m_df.pivot(index='feature', columns='index', values='mean')"
      ]
    },
    {
      "cell_type": "code",
      "execution_count": null,
      "metadata": {
        "colab": {
          "background_save": true
        },
        "id": "YUFtP7e7yjEg"
      },
      "outputs": [],
      "source": [
        "m_new_df = m_pivoted_df.T\n",
        "m_updated_new_df = m_new_df.drop(['m_cluster', 'k_cluster', 'b_cluster'], axis=1)\n",
        "csv_filename = 'm_cluster_summary.csv'\n",
        "m_updated_new_df.to_csv(csv_filename, index=False)\n",
        "\n",
        "k_new_df = k_pivoted_df.T\n",
        "k_updated_new_df = k_new_df.drop(['m_cluster', 'k_cluster', 'b_cluster'], axis=1)\n",
        "csv_filename = 'k_cluster_summary.csv'\n",
        "k_updated_new_df.to_csv(csv_filename, index=False)\n",
        "\n",
        "b_new_df = b_pivoted_df.T\n",
        "b_updated_new_df = b_new_df.drop(['m_cluster', 'k_cluster', 'b_cluster'], axis=1)\n",
        "csv_filename = 'b_cluster_summary.csv'\n",
        "b_updated_new_df.to_csv(csv_filename, index=False)"
      ]
    },
    {
      "cell_type": "code",
      "execution_count": null,
      "metadata": {
        "id": "nB6JKXd0ykqO"
      },
      "outputs": [],
      "source": [
        "unique_stay_ids = data_df.index.get_level_values('stay_id').unique()\n",
        "\n",
        "trajectories = []\n",
        "\n",
        "\n",
        "for stay_id in unique_stay_ids:\n",
        "\n",
        "\n",
        "  states, actions = data_df.loc[stay_id]['m_cluster'], data_df.loc[stay_id]['action']\n",
        "\n",
        "  trajectory = []\n",
        "  for i in range(len(states) - 1):\n",
        "    trajectory.append((states[i], int(actions[i]), states[i+1] ))\n",
        "\n",
        "  if len(trajectory) > 0:\n",
        "    trajectories.append(T.Trajectory(trajectory))"
      ]
    },
    {
      "cell_type": "code",
      "execution_count": null,
      "metadata": {
        "id": "DEXDWlzozBTm"
      },
      "outputs": [],
      "source": [
        "terminal_states = []\n",
        "\n",
        "for traj in trajectories:\n",
        "  terminal_states.append(traj._t[-1][-1])\n",
        "\n",
        "terminal_states = list(set(terminal_states))"
      ]
    },
    {
      "cell_type": "code",
      "execution_count": null,
      "metadata": {
        "id": "Ffu6rGV1zW4O"
      },
      "outputs": [],
      "source": [
        "\"\"\"\n",
        "Maximum Entropy Inverse Reinforcement Learning and Maximum Causal Entropy\n",
        "Inverse Reinforcement Learning.\n",
        "\n",
        "Based on the corresponding paper by B. Ziebart et al. (2008) and the Thesis\n",
        "by Ziebart (2010).\n",
        "\"\"\"\n",
        "\n",
        "import numpy as np\n",
        "from itertools import product\n",
        "\n",
        "\n",
        "# -- common functions ----------------------------------------------------------\n",
        "\n",
        "def feature_expectation_from_trajectories(features, trajectories):\n",
        "    \"\"\"\n",
        "    Compute the feature expectation of the given trajectories.\n",
        "\n",
        "    Simply counts the number of visitations to each feature-instance and\n",
        "    divides them by the number of trajectories.\n",
        "\n",
        "    Args:\n",
        "        features: The feature-matrix (e.g. as numpy array), mapping states\n",
        "            to features, i.e. a matrix of shape (n_states x n_features).\n",
        "        trajectories: A list or iterator of `Trajectory` instances.\n",
        "\n",
        "    Returns:\n",
        "        The feature-expectation of the provided trajectories as map\n",
        "        `[state: Integer] -> feature_expectation: Float`.\n",
        "    \"\"\"\n",
        "    n_states, n_features = features.shape\n",
        "\n",
        "    fe = np.zeros(n_features)\n",
        "\n",
        "    for t in trajectories:\n",
        "        for s in t.states():\n",
        "            fe += features[s, :]\n",
        "\n",
        "    return fe / len(trajectories)\n",
        "\n",
        "\n",
        "def initial_probabilities_from_trajectories(n_states, trajectories):\n",
        "    \"\"\"\n",
        "    Compute the probability of a state being a starting state using the\n",
        "    given trajectories.\n",
        "\n",
        "    Args:\n",
        "        n_states: The number of states.\n",
        "        trajectories: A list or iterator of `Trajectory` instances.\n",
        "\n",
        "    Returns:\n",
        "        The probability of a state being a starting-state as map\n",
        "        `[state: Integer] -> probability: Float`.\n",
        "    \"\"\"\n",
        "    p = np.zeros(n_states)\n",
        "\n",
        "    for t in trajectories:\n",
        "        p[t.transitions()[0][0]] += 1.0\n",
        "\n",
        "    return p / len(trajectories)\n",
        "\n",
        "\n",
        "def expected_svf_from_policy(p_transition, p_initial, terminal, p_action, eps=1e-5):\n",
        "    \"\"\"\n",
        "    Compute the expected state visitation frequency using the given local\n",
        "    action probabilities.\n",
        "\n",
        "    This is the forward pass of Algorithm 1 of the Maximum Entropy IRL paper\n",
        "    by Ziebart et al. (2008). Alternatively, it can also be found as\n",
        "    Algorithm 9.3 in in Ziebart's thesis (2010).\n",
        "\n",
        "    It has been slightly adapted for convergence, by forcing transition\n",
        "    probabilities from terminal stats to be zero.\n",
        "\n",
        "    Args:\n",
        "        p_transition: The transition probabilities of the MDP as table\n",
        "            `[from: Integer, to: Integer, action: Integer] -> probability: Float`\n",
        "            specifying the probability of a transition from state `from` to\n",
        "            state `to` via action `action` to succeed.\n",
        "        p_initial: The probability of a state being an initial state as map\n",
        "            `[state: Integer] -> probability: Float`.\n",
        "        terminal: A list of terminal states.\n",
        "        p_action: Local action probabilities as map\n",
        "            `[state: Integer, action: Integer] -> probability: Float`\n",
        "            as returned by `local_action_probabilities`.\n",
        "        eps: The threshold to be used as convergence criterion. Convergence\n",
        "            is assumed if the expected state visitation frequency changes\n",
        "            less than the threshold on all states in a single iteration.\n",
        "\n",
        "    Returns:\n",
        "        The expected state visitation frequencies as map\n",
        "        `[state: Integer] -> svf: Float`.\n",
        "    \"\"\"\n",
        "    n_states, _, n_actions = p_transition.shape\n",
        "\n",
        "    # 'fix' our transition probabilities to allow for convergence\n",
        "    # we will _never_ leave any terminal state\n",
        "    p_transition = np.copy(p_transition)\n",
        "    p_transition[terminal, :, :] = 0.0\n",
        "\n",
        "    # set-up transition matrices for each action\n",
        "    p_transition = [np.array(p_transition[:, :, a]) for a in range(n_actions)]\n",
        "\n",
        "    # actual forward-computation of state expectations\n",
        "    d = np.zeros(n_states)\n",
        "\n",
        "    delta = np.inf\n",
        "    while delta > eps:\n",
        "        d_ = [p_transition[a].T.dot(p_action[:, a] * d) for a in range(n_actions)]\n",
        "        d_ = p_initial + np.array(d_).sum(axis=0)\n",
        "\n",
        "        delta, d = np.max(np.abs(d_ - d)), d_\n",
        "\n",
        "    return d\n",
        "\n",
        "\n",
        "# -- plain maximum entropy (Ziebart et al. 2008) -------------------------------\n",
        "\n",
        "def local_action_probabilities(p_transition, terminal, reward):\n",
        "    \"\"\"\n",
        "    Compute the local action probabilities (policy) required for the edge\n",
        "    frequency calculation for maximum entropy reinfocement learning.\n",
        "\n",
        "    This is the backward pass of Algorithm 1 of the Maximum Entropy IRL\n",
        "    paper by Ziebart et al. (2008).\n",
        "\n",
        "    Args:\n",
        "        p_transition: The transition probabilities of the MDP as table\n",
        "            `[from: Integer, to: Integer, action: Integer] -> probability: Float`\n",
        "            specifying the probability of a transition from state `from` to\n",
        "            state `to` via action `action` to succeed.\n",
        "        terminal: A set/list of terminal states.\n",
        "        reward: The reward signal per state as table\n",
        "            `[state: Integer] -> reward: Float`.\n",
        "\n",
        "    Returns:\n",
        "        The local action probabilities (policy) as map\n",
        "        `[state: Integer, action: Integer] -> probability: Float`\n",
        "    \"\"\"\n",
        "    n_states, _, n_actions = p_transition.shape\n",
        "\n",
        "    er = np.exp(reward)\n",
        "    p = [np.array(p_transition[:, :, a]) for a in range(n_actions)]\n",
        "\n",
        "    # initialize at terminal states\n",
        "    zs = np.zeros(n_states)\n",
        "    zs[terminal] = 1.0\n",
        "\n",
        "    # perform backward pass\n",
        "    # This does not converge, instead we iterate a fixed number of steps. The\n",
        "    # number of steps is chosen to reflect the maximum steps required to\n",
        "    # guarantee propagation from any state to any other state and back in an\n",
        "    # arbitrary MDP defined by p_transition.\n",
        "    for _ in range(2 * n_states):\n",
        "        za = np.array([er * p[a].dot(zs) for a in range(n_actions)]).T\n",
        "        zs = za.sum(axis=1)\n",
        "\n",
        "    # compute local action probabilities\n",
        "    return za / zs[:, None]\n",
        "\n",
        "\n",
        "def compute_expected_svf(p_transition, p_initial, terminal, reward, eps=1e-5):\n",
        "    \"\"\"\n",
        "    Compute the expected state visitation frequency for maximum entropy IRL.\n",
        "\n",
        "    This is an implementation of Algorithm 1 of the Maximum Entropy IRL\n",
        "    paper by Ziebart et al. (2008).\n",
        "\n",
        "    This function combines the backward pass implemented in\n",
        "    `local_action_probabilities` with the forward pass implemented in\n",
        "    `expected_svf_from_policy`.\n",
        "\n",
        "    Args:\n",
        "        p_transition: The transition probabilities of the MDP as table\n",
        "            `[from: Integer, to: Integer, action: Integer] -> probability: Float`\n",
        "            specifying the probability of a transition from state `from` to\n",
        "            state `to` via action `action` to succeed.\n",
        "        p_initial: The probability of a state being an initial state as map\n",
        "            `[state: Integer] -> probability: Float`.\n",
        "        terminal: A list of terminal states.\n",
        "        reward: The reward signal per state as table\n",
        "            `[state: Integer] -> reward: Float`.\n",
        "        eps: The threshold to be used as convergence criterion for the\n",
        "            expected state-visitation frequency. Convergence is assumed if\n",
        "            the expected state visitation frequency changes less than the\n",
        "            threshold on all states in a single iteration.\n",
        "\n",
        "    Returns:\n",
        "        The expected state visitation frequencies as map\n",
        "        `[state: Integer] -> svf: Float`.\n",
        "    \"\"\"\n",
        "    p_action = local_action_probabilities(p_transition, terminal, reward)\n",
        "    return expected_svf_from_policy(p_transition, p_initial, terminal, p_action, eps)\n",
        "\n",
        "\n",
        "def irl(p_transition, features, terminal, trajectories, optim, init, eps=1e-4, eps_esvf=1e-5):\n",
        "    \"\"\"\n",
        "    Compute the reward signal given the demonstration trajectories using the\n",
        "    maximum entropy inverse reinforcement learning algorithm proposed in the\n",
        "    corresponding paper by Ziebart et al. (2008).\n",
        "\n",
        "    Args:\n",
        "        p_transition: The transition probabilities of the MDP as table\n",
        "            `[from: Integer, to: Integer, action: Integer] -> probability: Float`\n",
        "            specifying the probability of a transition from state `from` to\n",
        "            state `to` via action `action` to succeed.\n",
        "        features: The feature-matrix (e.g. as numpy array), mapping states\n",
        "            to features, i.e. a matrix of shape (n_states x n_features).\n",
        "        terminal: A list of terminal states.\n",
        "        trajectories: A list of `Trajectory` instances representing the\n",
        "            expert demonstrations.\n",
        "        optim: The `Optimizer` instance to use for gradient-based\n",
        "            optimization.\n",
        "        init: The `Initializer` to use for initialization of the reward\n",
        "            function parameters.\n",
        "        eps: The threshold to be used as convergence criterion for the\n",
        "            reward parameters. Convergence is assumed if all changes in the\n",
        "            scalar parameters are less than the threshold in a single\n",
        "            iteration.\n",
        "        eps_svf: The threshold to be used as convergence criterion for the\n",
        "            expected state-visitation frequency. Convergence is assumed if\n",
        "            the expected state visitation frequency changes less than the\n",
        "            threshold on all states in a single iteration.\n",
        "\n",
        "    Returns:\n",
        "        The reward per state as table `[state: Integer] -> reward: Float`.\n",
        "    \"\"\"\n",
        "    n_states, _, n_actions = p_transition.shape\n",
        "    _, n_features = features.shape\n",
        "\n",
        "    # compute static properties from trajectories\n",
        "    e_features = feature_expectation_from_trajectories(features, trajectories)\n",
        "    p_initial = initial_probabilities_from_trajectories(n_states, trajectories)\n",
        "\n",
        "    # basic gradient descent\n",
        "    theta = init(n_features)\n",
        "    delta = np.inf\n",
        "\n",
        "    optim.reset(theta)\n",
        "    while delta > eps:\n",
        "        theta_old = theta.copy()\n",
        "\n",
        "        # compute per-state reward\n",
        "        reward = features.dot(theta)\n",
        "\n",
        "        # compute the gradient\n",
        "        e_svf = compute_expected_svf(p_transition, p_initial, terminal, reward, eps_esvf)\n",
        "        grad = e_features - features.T.dot(e_svf)\n",
        "\n",
        "        # perform optimization step and compute delta for convergence\n",
        "        optim.step(grad)\n",
        "        delta = np.max(np.abs(theta_old - theta))\n",
        "\n",
        "    # re-compute per-state reward and return\n",
        "    return features.dot(theta)\n",
        "\n",
        "\n",
        "# -- maximum causal entropy (Ziebart 2010) -------------------------------------\n",
        "\n",
        "def softmax(x1, x2):\n",
        "    \"\"\"\n",
        "    Computes a soft maximum of both arguments.\n",
        "\n",
        "    In case `x1` and `x2` are arrays, computes the element-wise softmax.\n",
        "\n",
        "    Args:\n",
        "        x1: Scalar or ndarray.\n",
        "        x2: Scalar or ndarray.\n",
        "\n",
        "    Returns:\n",
        "        The soft maximum of the given arguments, either scalar or ndarray,\n",
        "        depending on the input.\n",
        "    \"\"\"\n",
        "    x_max = np.maximum(x1, x2)\n",
        "    x_min = np.minimum(x1, x2)\n",
        "    return x_max + np.log(1.0 + np.exp(x_min - x_max))\n",
        "\n",
        "\n",
        "def local_causal_action_probabilities(p_transition, terminal, reward, discount, eps=1e-5):\n",
        "    \"\"\"\n",
        "    Compute the local action probabilities (policy) required for the edge\n",
        "    frequency calculation for maximum causal entropy reinfocement learning.\n",
        "\n",
        "    This is Algorithm 9.1 from Ziebart's thesis (2010) combined with\n",
        "    discounting for convergence reasons as proposed in the same thesis.\n",
        "\n",
        "    Args:\n",
        "        p_transition: The transition probabilities of the MDP as table\n",
        "            `[from: Integer, to: Integer, action: Integer] -> probability: Float`\n",
        "            specifying the probability of a transition from state `from` to\n",
        "            state `to` via action `action` to succeed.\n",
        "        terminal: Either the terminal reward function or a collection of\n",
        "            terminal states. Iff `len(terminal)` is equal to the number of\n",
        "            states, it is assumed to contain the terminal reward function\n",
        "            (phi) as specified in Ziebart's thesis. Otherwise `terminal` is\n",
        "            assumed to be a collection of terminal states from which the\n",
        "            terminal reward function will be derived.\n",
        "        reward: The reward signal per state as table\n",
        "            `[state: Integer] -> reward: Float`.\n",
        "        discount: A discounting factor as Float.\n",
        "        eps: The threshold to be used as convergence criterion for the state\n",
        "            partition function. Convergence is assumed if the state\n",
        "            partition function changes less than the threshold on all states\n",
        "            in a single iteration.\n",
        "\n",
        "    Returns:\n",
        "        The local action probabilities (policy) as map\n",
        "        `[state: Integer, action: Integer] -> probability: Float`\n",
        "    \"\"\"\n",
        "    n_states, _, n_actions = p_transition.shape\n",
        "\n",
        "    # set up terminal reward function\n",
        "    if len(terminal) == n_states:\n",
        "        reward_terminal = np.array(terminal, dtype=np.float)\n",
        "    else:\n",
        "        reward_terminal = -np.inf * np.ones(n_states)\n",
        "        reward_terminal[terminal] = 0.0\n",
        "\n",
        "    # set up transition probability matrices\n",
        "    p = [np.array(p_transition[:, :, a]) for a in range(n_actions)]\n",
        "\n",
        "    # compute state log partition V and state-action log partition Q\n",
        "    v = -1e200 * np.ones(n_states)  # np.dot doesn't behave with -np.inf\n",
        "\n",
        "    delta = np.inf\n",
        "    while delta > eps:\n",
        "        v_old = v\n",
        "\n",
        "        q = np.array([reward + discount * p[a].dot(v_old) for a in range(n_actions)]).T\n",
        "\n",
        "        v = reward_terminal\n",
        "        for a in range(n_actions):\n",
        "            v = softmax(v, q[:, a])\n",
        "\n",
        "        # for some reason numpy chooses an array of objects after reduction, force floats here\n",
        "        v = np.array(v, dtype=float)\n",
        "\n",
        "        delta = np.max(np.abs(v - v_old))\n",
        "\n",
        "    # compute and return policy\n",
        "    return np.exp(q - v[:, None])\n",
        "\n",
        "\n",
        "def compute_expected_causal_svf(p_transition, p_initial, terminal, reward, discount,\n",
        "                                eps_lap=1e-5, eps_svf=1e-5):\n",
        "    \"\"\"\n",
        "    Compute the expected state visitation frequency for maximum causal\n",
        "    entropy IRL.\n",
        "\n",
        "    This is a combination of Algorithm 9.1 and 9.3 of Ziebart's thesis\n",
        "    (2010). See `local_causal_action_probabilities` and\n",
        "    `expected_svf_from_policy` for more details.\n",
        "\n",
        "    Args:\n",
        "        p_transition: The transition probabilities of the MDP as table\n",
        "            `[from: Integer, to: Integer, action: Integer] -> probability: Float`\n",
        "            specifying the probability of a transition from state `from` to\n",
        "            state `to` via action `action` to succeed.\n",
        "        p_initial: The probability of a state being an initial state as map\n",
        "            `[state: Integer] -> probability: Float`.\n",
        "        terminal: Either the terminal reward function or a collection of\n",
        "            terminal states. Iff `len(terminal)` is equal to the number of\n",
        "            states, it is assumed to contain the terminal reward function\n",
        "            (phi) as specified in Ziebart's thesis. Otherwise `terminal` is\n",
        "            assumed to be a collection of terminal states from which the\n",
        "            terminal reward function will be derived.\n",
        "        reward: The reward signal per state as table\n",
        "            `[state: Integer] -> reward: Float`.\n",
        "        discount: A discounting factor as Float.\n",
        "        eps_lap: The threshold to be used as convergence criterion for the\n",
        "            state partition function. Convergence is assumed if the state\n",
        "            partition function changes less than the threshold on all states\n",
        "            in a single iteration.\n",
        "        eps_svf: The threshold to be used as convergence criterion for the\n",
        "            expected state-visitation frequency. Convergence is assumed if\n",
        "            the expected state visitation frequency changes less than the\n",
        "            threshold on all states in a single iteration.\n",
        "    \"\"\"\n",
        "    p_action = local_causal_action_probabilities(p_transition, terminal, reward, discount, eps_lap)\n",
        "    return expected_svf_from_policy(p_transition, p_initial, terminal, p_action, eps_svf)\n",
        "\n",
        "\n",
        "def irl_causal(p_transition, features, terminal, trajectories, optim, init, discount,\n",
        "               eps=1e-4, eps_svf=1e-5, eps_lap=1e-5):\n",
        "    \"\"\"\n",
        "    Compute the reward signal given the demonstration trajectories using the\n",
        "    maximum causal entropy inverse reinforcement learning algorithm proposed\n",
        "    Ziebart's thesis (2010).\n",
        "\n",
        "    Args:\n",
        "        p_transition: The transition probabilities of the MDP as table\n",
        "            `[from: Integer, to: Integer, action: Integer] -> probability: Float`\n",
        "            specifying the probability of a transition from state `from` to\n",
        "            state `to` via action `action` to succeed.\n",
        "        features: The feature-matrix (e.g. as numpy array), mapping states\n",
        "            to features, i.e. a matrix of shape (n_states x n_features).\n",
        "        terminal: Either the terminal reward function or a collection of\n",
        "            terminal states. Iff `len(terminal)` is equal to the number of\n",
        "            states, it is assumed to contain the terminal reward function\n",
        "            (phi) as specified in Ziebart's thesis. Otherwise `terminal` is\n",
        "            assumed to be a collection of terminal states from which the\n",
        "            terminal reward function will be derived.\n",
        "        trajectories: A list of `Trajectory` instances representing the\n",
        "            expert demonstrations.\n",
        "        optim: The `Optimizer` instance to use for gradient-based\n",
        "            optimization.\n",
        "        init: The `Initializer` to use for initialization of the reward\n",
        "            function parameters.\n",
        "        discount: A discounting factor for the log partition functions as\n",
        "            Float.\n",
        "        eps: The threshold to be used as convergence criterion for the\n",
        "            reward parameters. Convergence is assumed if all changes in the\n",
        "            scalar parameters are less than the threshold in a single\n",
        "            iteration.\n",
        "        eps_lap: The threshold to be used as convergence criterion for the\n",
        "            state partition function. Convergence is assumed if the state\n",
        "            partition function changes less than the threshold on all states\n",
        "            in a single iteration.\n",
        "        eps_svf: The threshold to be used as convergence criterion for the\n",
        "            expected state-visitation frequency. Convergence is assumed if\n",
        "            the expected state visitation frequency changes less than the\n",
        "            threshold on all states in a single iteration.\n",
        "    \"\"\"\n",
        "    n_states, _, n_actions = p_transition.shape\n",
        "    _, n_features = features.shape\n",
        "\n",
        "    # compute static properties from trajectories\n",
        "    e_features = feature_expectation_from_trajectories(features, trajectories)\n",
        "    p_initial = initial_probabilities_from_trajectories(n_states, trajectories)\n",
        "\n",
        "    # basic gradient descent\n",
        "    theta = init(n_features)\n",
        "    delta = np.inf\n",
        "\n",
        "    optim.reset(theta)\n",
        "    rewards = [features.dot(theta)]\n",
        "    epoch = 0\n",
        "    while delta > eps and epoch < 10000:\n",
        "        theta_old = theta.copy()\n",
        "\n",
        "        # compute per-state reward\n",
        "        reward = features.dot(theta)\n",
        "\n",
        "        # compute the gradient\n",
        "        e_svf = compute_expected_causal_svf(p_transition, p_initial, terminal, reward, discount,\n",
        "                                            eps_lap, eps_svf)\n",
        "\n",
        "        grad = e_features - features.T.dot(e_svf)\n",
        "\n",
        "        # perform optimization step and compute delta for convergence\n",
        "        optim.step(grad)\n",
        "        delta = np.max(np.abs(theta_old - theta))\n",
        "        rewards.append(features.dot(theta))\n",
        "\n",
        "        epoch += 1\n",
        "    print(epoch, delta)\n",
        "\n",
        "    # re-compute per-state reward and return\n",
        "    return rewards\n"
      ]
    },
    {
      "cell_type": "code",
      "execution_count": null,
      "metadata": {
        "id": "IUI7vywiwc2T"
      },
      "outputs": [],
      "source": [
        "X_df = X_df.drop(['b_cluster', 'k_cluster'], axis=1)"
      ]
    },
    {
      "cell_type": "code",
      "execution_count": null,
      "metadata": {
        "id": "oPRtOS7YnCHq"
      },
      "outputs": [],
      "source": [
        "import json\n",
        "def perform_alg(smoothing_value, discount, cluster_algo='minibatchK'):\n",
        "\n",
        "  p_transition = np.zeros((num_clusters, num_clusters, 15)) + smoothing_value\n",
        "\n",
        "  for traj in trajectories:\n",
        "    for tran in traj._t:\n",
        "      p_transition[tran[0], tran[2], tran[1]] +=1\n",
        "\n",
        "  p_transition = p_transition/ p_transition.sum(axis = 1)[:, np.newaxis, :]\n",
        "\n",
        "  state_encoder = OneHotEncoder(sparse=False, categories= [np.arange(num_clusters)])\n",
        "  action_encoder = OneHotEncoder(sparse=False, categories= [np.arange(15)])\n",
        "\n",
        "\n",
        "  states_onehot = state_encoder.fit_transform(X_df['m_cluster'].to_numpy().reshape(-1, 1))\n",
        "  actions_onehot = action_encoder.fit_transform(y_df.to_numpy().reshape(-1, 1))\n",
        "\n",
        "  # set up features: we use one feature vector per state (1 hot encoding for each cluster/state)\n",
        "  features = state_encoder.transform(np.arange(num_clusters).reshape(-1, 1))\n",
        "\n",
        "  # choose our parameter initialization strategy:\n",
        "  #   initialize parameters with constant\n",
        "  init = O.Constant(1.0)\n",
        "\n",
        "  # choose our optimization strategy:\n",
        "  #   we select exponentiated stochastic gradient descent with linear learning-rate decay\n",
        "  optim = O.ExpSga(lr=O.linear_decay(lr0=0.07))\n",
        "\n",
        "  # actually do some inverse reinforcement learning\n",
        "  # reward_maxent = maxent_irl(p_transition, features, terminal_states, trajectories, optim, init, eps= 1e-3)\n",
        "\n",
        "  reward_maxent_causal = irl_causal(p_transition, features, terminal_states, trajectories, optim, init, discount,\n",
        "                eps=1e-3, eps_svf=1e-4, eps_lap=1e-4)\n",
        "  for i in range(len(reward_maxent_causal)):\n",
        "    reward_maxent_causal[i] = reward_maxent_causal[i].tolist()\n",
        "\n",
        "  file_name = 'mce_' + cluster_algo + str(discount)+'_smooth'+str(smoothing_value)+'.json'\n",
        "  with open(file_name, 'w') as m:\n",
        "      json.dump(reward_maxent_causal, m)\n"
      ]
    },
    {
      "cell_type": "code",
      "execution_count": null,
      "metadata": {
        "id": "MF4hbc533AZY",
        "colab": {
          "base_uri": "https://localhost:8080/"
        },
        "outputId": "715d1fc3-7f39-4105-fa36-b5e6eb5f47d6"
      },
      "outputs": [
        {
          "metadata": {
            "tags": null
          },
          "name": "stderr",
          "output_type": "stream",
          "text": [
            "/usr/local/lib/python3.10/dist-packages/sklearn/preprocessing/_encoders.py:868: FutureWarning: `sparse` was renamed to `sparse_output` in version 1.2 and will be removed in 1.4. `sparse_output` is ignored unless you leave `sparse` to its default value.\n",
            "  warnings.warn(\n",
            "/usr/local/lib/python3.10/dist-packages/sklearn/preprocessing/_encoders.py:868: FutureWarning: `sparse` was renamed to `sparse_output` in version 1.2 and will be removed in 1.4. `sparse_output` is ignored unless you leave `sparse` to its default value.\n",
            "  warnings.warn(\n"
          ]
        },
        {
          "metadata": {
            "tags": null
          },
          "name": "stdout",
          "output_type": "stream",
          "text": [
            "4343 0.0009999197878336474\n",
            "finished 1e-06 0.001\n"
          ]
        },
        {
          "metadata": {
            "tags": null
          },
          "name": "stderr",
          "output_type": "stream",
          "text": [
            "/usr/local/lib/python3.10/dist-packages/sklearn/preprocessing/_encoders.py:868: FutureWarning: `sparse` was renamed to `sparse_output` in version 1.2 and will be removed in 1.4. `sparse_output` is ignored unless you leave `sparse` to its default value.\n",
            "  warnings.warn(\n",
            "/usr/local/lib/python3.10/dist-packages/sklearn/preprocessing/_encoders.py:868: FutureWarning: `sparse` was renamed to `sparse_output` in version 1.2 and will be removed in 1.4. `sparse_output` is ignored unless you leave `sparse` to its default value.\n",
            "  warnings.warn(\n"
          ]
        },
        {
          "metadata": {
            "tags": null
          },
          "name": "stdout",
          "output_type": "stream",
          "text": [
            "4343 0.0009999197878336474\n",
            "finished 1e-06 0.01\n"
          ]
        },
        {
          "metadata": {
            "tags": null
          },
          "name": "stderr",
          "output_type": "stream",
          "text": [
            "/usr/local/lib/python3.10/dist-packages/sklearn/preprocessing/_encoders.py:868: FutureWarning: `sparse` was renamed to `sparse_output` in version 1.2 and will be removed in 1.4. `sparse_output` is ignored unless you leave `sparse` to its default value.\n",
            "  warnings.warn(\n",
            "/usr/local/lib/python3.10/dist-packages/sklearn/preprocessing/_encoders.py:868: FutureWarning: `sparse` was renamed to `sparse_output` in version 1.2 and will be removed in 1.4. `sparse_output` is ignored unless you leave `sparse` to its default value.\n",
            "  warnings.warn(\n"
          ]
        },
        {
          "metadata": {
            "tags": null
          },
          "name": "stdout",
          "output_type": "stream",
          "text": [
            "4343 0.0009999197878336474\n",
            "finished 1e-06 0.3\n"
          ]
        },
        {
          "metadata": {
            "tags": null
          },
          "name": "stderr",
          "output_type": "stream",
          "text": [
            "/usr/local/lib/python3.10/dist-packages/sklearn/preprocessing/_encoders.py:868: FutureWarning: `sparse` was renamed to `sparse_output` in version 1.2 and will be removed in 1.4. `sparse_output` is ignored unless you leave `sparse` to its default value.\n",
            "  warnings.warn(\n",
            "/usr/local/lib/python3.10/dist-packages/sklearn/preprocessing/_encoders.py:868: FutureWarning: `sparse` was renamed to `sparse_output` in version 1.2 and will be removed in 1.4. `sparse_output` is ignored unless you leave `sparse` to its default value.\n",
            "  warnings.warn(\n"
          ]
        },
        {
          "metadata": {
            "tags": null
          },
          "name": "stdout",
          "output_type": "stream",
          "text": [
            "4343 0.0009999197878336474\n",
            "finished 1e-06 0.9\n"
          ]
        },
        {
          "metadata": {
            "tags": null
          },
          "name": "stderr",
          "output_type": "stream",
          "text": [
            "/usr/local/lib/python3.10/dist-packages/sklearn/preprocessing/_encoders.py:868: FutureWarning: `sparse` was renamed to `sparse_output` in version 1.2 and will be removed in 1.4. `sparse_output` is ignored unless you leave `sparse` to its default value.\n",
            "  warnings.warn(\n",
            "/usr/local/lib/python3.10/dist-packages/sklearn/preprocessing/_encoders.py:868: FutureWarning: `sparse` was renamed to `sparse_output` in version 1.2 and will be removed in 1.4. `sparse_output` is ignored unless you leave `sparse` to its default value.\n",
            "  warnings.warn(\n"
          ]
        },
        {
          "metadata": {
            "tags": null
          },
          "name": "stdout",
          "output_type": "stream",
          "text": [
            "4343 0.0009999197878336474\n",
            "finished 0.3 0.001\n"
          ]
        },
        {
          "metadata": {
            "tags": null
          },
          "name": "stderr",
          "output_type": "stream",
          "text": [
            "/usr/local/lib/python3.10/dist-packages/sklearn/preprocessing/_encoders.py:868: FutureWarning: `sparse` was renamed to `sparse_output` in version 1.2 and will be removed in 1.4. `sparse_output` is ignored unless you leave `sparse` to its default value.\n",
            "  warnings.warn(\n",
            "/usr/local/lib/python3.10/dist-packages/sklearn/preprocessing/_encoders.py:868: FutureWarning: `sparse` was renamed to `sparse_output` in version 1.2 and will be removed in 1.4. `sparse_output` is ignored unless you leave `sparse` to its default value.\n",
            "  warnings.warn(\n"
          ]
        },
        {
          "metadata": {
            "tags": null
          },
          "name": "stdout",
          "output_type": "stream",
          "text": [
            "4343 0.0009999197878336474\n",
            "finished 0.3 0.01\n"
          ]
        },
        {
          "metadata": {
            "tags": null
          },
          "name": "stderr",
          "output_type": "stream",
          "text": [
            "/usr/local/lib/python3.10/dist-packages/sklearn/preprocessing/_encoders.py:868: FutureWarning: `sparse` was renamed to `sparse_output` in version 1.2 and will be removed in 1.4. `sparse_output` is ignored unless you leave `sparse` to its default value.\n",
            "  warnings.warn(\n",
            "/usr/local/lib/python3.10/dist-packages/sklearn/preprocessing/_encoders.py:868: FutureWarning: `sparse` was renamed to `sparse_output` in version 1.2 and will be removed in 1.4. `sparse_output` is ignored unless you leave `sparse` to its default value.\n",
            "  warnings.warn(\n"
          ]
        },
        {
          "metadata": {
            "tags": null
          },
          "name": "stdout",
          "output_type": "stream",
          "text": [
            "4343 0.0009999197878336474\n",
            "finished 0.3 0.3\n"
          ]
        },
        {
          "metadata": {
            "tags": null
          },
          "name": "stderr",
          "output_type": "stream",
          "text": [
            "/usr/local/lib/python3.10/dist-packages/sklearn/preprocessing/_encoders.py:868: FutureWarning: `sparse` was renamed to `sparse_output` in version 1.2 and will be removed in 1.4. `sparse_output` is ignored unless you leave `sparse` to its default value.\n",
            "  warnings.warn(\n",
            "/usr/local/lib/python3.10/dist-packages/sklearn/preprocessing/_encoders.py:868: FutureWarning: `sparse` was renamed to `sparse_output` in version 1.2 and will be removed in 1.4. `sparse_output` is ignored unless you leave `sparse` to its default value.\n",
            "  warnings.warn(\n"
          ]
        },
        {
          "metadata": {
            "tags": null
          },
          "name": "stdout",
          "output_type": "stream",
          "text": [
            "4343 0.0009999197878336474\n",
            "finished 0.3 0.9\n"
          ]
        },
        {
          "metadata": {
            "tags": null
          },
          "name": "stderr",
          "output_type": "stream",
          "text": [
            "/usr/local/lib/python3.10/dist-packages/sklearn/preprocessing/_encoders.py:868: FutureWarning: `sparse` was renamed to `sparse_output` in version 1.2 and will be removed in 1.4. `sparse_output` is ignored unless you leave `sparse` to its default value.\n",
            "  warnings.warn(\n",
            "/usr/local/lib/python3.10/dist-packages/sklearn/preprocessing/_encoders.py:868: FutureWarning: `sparse` was renamed to `sparse_output` in version 1.2 and will be removed in 1.4. `sparse_output` is ignored unless you leave `sparse` to its default value.\n",
            "  warnings.warn(\n"
          ]
        },
        {
          "metadata": {
            "tags": null
          },
          "name": "stdout",
          "output_type": "stream",
          "text": [
            "4343 0.0009999197878336474\n",
            "finished 1 0.001\n"
          ]
        },
        {
          "metadata": {
            "tags": null
          },
          "name": "stderr",
          "output_type": "stream",
          "text": [
            "/usr/local/lib/python3.10/dist-packages/sklearn/preprocessing/_encoders.py:868: FutureWarning: `sparse` was renamed to `sparse_output` in version 1.2 and will be removed in 1.4. `sparse_output` is ignored unless you leave `sparse` to its default value.\n",
            "  warnings.warn(\n",
            "/usr/local/lib/python3.10/dist-packages/sklearn/preprocessing/_encoders.py:868: FutureWarning: `sparse` was renamed to `sparse_output` in version 1.2 and will be removed in 1.4. `sparse_output` is ignored unless you leave `sparse` to its default value.\n",
            "  warnings.warn(\n"
          ]
        },
        {
          "metadata": {
            "tags": null
          },
          "name": "stdout",
          "output_type": "stream",
          "text": [
            "4343 0.0009999197878336474\n",
            "finished 1 0.01\n"
          ]
        },
        {
          "metadata": {
            "tags": null
          },
          "name": "stderr",
          "output_type": "stream",
          "text": [
            "/usr/local/lib/python3.10/dist-packages/sklearn/preprocessing/_encoders.py:868: FutureWarning: `sparse` was renamed to `sparse_output` in version 1.2 and will be removed in 1.4. `sparse_output` is ignored unless you leave `sparse` to its default value.\n",
            "  warnings.warn(\n",
            "/usr/local/lib/python3.10/dist-packages/sklearn/preprocessing/_encoders.py:868: FutureWarning: `sparse` was renamed to `sparse_output` in version 1.2 and will be removed in 1.4. `sparse_output` is ignored unless you leave `sparse` to its default value.\n",
            "  warnings.warn(\n"
          ]
        },
        {
          "output_type": "stream",
          "name": "stdout",
          "text": [
            "4343 0.0009999197878336474\n",
            "finished 1 0.3\n"
          ]
        },
        {
          "output_type": "stream",
          "name": "stderr",
          "text": [
            "/usr/local/lib/python3.10/dist-packages/sklearn/preprocessing/_encoders.py:868: FutureWarning: `sparse` was renamed to `sparse_output` in version 1.2 and will be removed in 1.4. `sparse_output` is ignored unless you leave `sparse` to its default value.\n",
            "  warnings.warn(\n",
            "/usr/local/lib/python3.10/dist-packages/sklearn/preprocessing/_encoders.py:868: FutureWarning: `sparse` was renamed to `sparse_output` in version 1.2 and will be removed in 1.4. `sparse_output` is ignored unless you leave `sparse` to its default value.\n",
            "  warnings.warn(\n"
          ]
        },
        {
          "output_type": "stream",
          "name": "stdout",
          "text": [
            "4343 0.0009999197878336474\n",
            "finished 1 0.9\n"
          ]
        }
      ],
      "source": [
        "for i in [0.000001, 0.3, 1]:\n",
        "  for j in [0.001, 0.01, 0.3, 0.9]:\n",
        "    perform_alg(i, j)\n",
        "    print('finished', i, j)"
      ]
    }
  ],
  "metadata": {
    "colab": {
      "provenance": []
    },
    "kernelspec": {
      "display_name": "Python 3",
      "name": "python3"
    },
    "language_info": {
      "name": "python"
    }
  },
  "nbformat": 4,
  "nbformat_minor": 0
}