{
  "cells": [
    {
      "cell_type": "code",
      "execution_count": null,
      "metadata": {
        "id": "bAuX9Jp9XqK1"
      },
      "outputs": [],
      "source": [
        "import json\n",
        "import os"
      ]
    },
    {
      "cell_type": "code",
      "execution_count": null,
      "metadata": {
        "id": "XqIFnQ_8ZeA4"
      },
      "outputs": [],
      "source": [
        "with open('mimic_iv_file_directory.json', 'r') as file:\n",
        "    data = file.read()\n",
        "    file_directory = json.loads(data)\n",
        "\n",
        "with open('mimic_iv_data_directory.json', 'r') as file:\n",
        "    data = file.read()\n",
        "    data_directory = json.loads(data)"
      ]
    },
    {
      "cell_type": "code",
      "execution_count": 3,
      "metadata": {
        "colab": {
          "base_uri": "https://localhost:8080/"
        },
        "id": "oRrHCnb8axZj",
        "outputId": "e6e1a84e-7a8c-4b5c-acd8-68a73767f998"
      },
      "outputs": [
        {
          "output_type": "stream",
          "name": "stdout",
          "text": [
            "finished for cluster  kmeans discount  0.001 smoothing  1e-06\n",
            "finished for cluster  kmeans discount  0.001 smoothing  0.3\n",
            "finished for cluster  kmeans discount  0.001 smoothing  1\n",
            "finished for cluster  kmeans discount  0.01 smoothing  1e-06\n",
            "finished for cluster  kmeans discount  0.01 smoothing  0.3\n",
            "finished for cluster  kmeans discount  0.01 smoothing  1\n",
            "finished for cluster  kmeans discount  0.3 smoothing  1e-06\n",
            "finished for cluster  kmeans discount  0.3 smoothing  0.3\n",
            "finished for cluster  kmeans discount  0.3 smoothing  1\n",
            "finished for cluster  kmeans discount  0.9 smoothing  1e-06\n",
            "finished for cluster  kmeans discount  0.9 smoothing  0.3\n",
            "finished for cluster  kmeans discount  0.9 smoothing  1\n",
            "finished for cluster  minibatch discount  0.001 smoothing  1e-06\n",
            "finished for cluster  minibatch discount  0.001 smoothing  0.3\n",
            "finished for cluster  minibatch discount  0.001 smoothing  1\n",
            "finished for cluster  minibatch discount  0.01 smoothing  1e-06\n",
            "finished for cluster  minibatch discount  0.01 smoothing  0.3\n",
            "finished for cluster  minibatch discount  0.01 smoothing  1\n",
            "finished for cluster  minibatch discount  0.3 smoothing  1e-06\n",
            "finished for cluster  minibatch discount  0.3 smoothing  0.3\n",
            "finished for cluster  minibatch discount  0.3 smoothing  1\n",
            "finished for cluster  minibatch discount  0.9 smoothing  1e-06\n",
            "finished for cluster  minibatch discount  0.9 smoothing  0.3\n",
            "finished for cluster  minibatch discount  0.9 smoothing  1\n",
            "finished for cluster  birch discount  0.001 smoothing  1e-06\n",
            "finished for cluster  birch discount  0.001 smoothing  0.3\n",
            "finished for cluster  birch discount  0.001 smoothing  1\n",
            "finished for cluster  birch discount  0.01 smoothing  1e-06\n",
            "finished for cluster  birch discount  0.01 smoothing  0.3\n",
            "finished for cluster  birch discount  0.01 smoothing  1\n",
            "finished for cluster  birch discount  0.3 smoothing  1e-06\n",
            "finished for cluster  birch discount  0.3 smoothing  0.3\n",
            "finished for cluster  birch discount  0.3 smoothing  1\n",
            "finished for cluster  birch discount  0.9 smoothing  1e-06\n",
            "finished for cluster  birch discount  0.9 smoothing  0.3\n",
            "finished for cluster  birch discount  0.9 smoothing  1\n"
          ]
        }
      ],
      "source": [
        "for cluster, params in file_directory.items():\n",
        "  for discount, remaining_values in params.items():\n",
        "    for smoothing, values in remaining_values.items():\n",
        "      f = file_directory[cluster][discount][smoothing]\n",
        "      with open(f, 'r') as file:\n",
        "        data = file.read()\n",
        "        data_directory[cluster][discount][smoothing] = json.loads(data)\n",
        "      print('finished for cluster ', cluster, 'discount ', discount, 'smoothing ', smoothing)"
      ]
    },
    {
      "cell_type": "code",
      "execution_count": 4,
      "metadata": {
        "id": "z9gMFUMyOhmz"
      },
      "outputs": [],
      "source": [
        "import pandas as pd\n",
        "\n",
        "b_df = pd.read_csv ('b_cluster_summary.csv')\n",
        "m_df = pd.read_csv ('m_cluster_summary.csv')\n",
        "k_df = pd.read_csv ('k_cluster_summary.csv')\n",
        "\n",
        "cluster_summaries = {\n",
        "    \"kmeans\": k_df,\n",
        "    \"minibatch\": m_df,\n",
        "    \"birch\": b_df\n",
        "}"
      ]
    },
    {
      "cell_type": "code",
      "execution_count": 5,
      "metadata": {
        "colab": {
          "base_uri": "https://localhost:8080/",
          "height": 468
        },
        "id": "M_AZRgf6Rd2_",
        "outputId": "4384f3ff-481e-440c-acf4-f8c451f71fe2"
      },
      "outputs": [
        {
          "output_type": "stream",
          "name": "stdout",
          "text": [
            "Requirement already satisfied: dash in /usr/local/lib/python3.10/dist-packages (2.14.2)\n",
            "Requirement already satisfied: Flask<3.1,>=1.0.4 in /usr/local/lib/python3.10/dist-packages (from dash) (2.2.5)\n",
            "Requirement already satisfied: Werkzeug<3.1 in /usr/local/lib/python3.10/dist-packages (from dash) (3.0.1)\n",
            "Requirement already satisfied: plotly>=5.0.0 in /usr/local/lib/python3.10/dist-packages (from dash) (5.15.0)\n",
            "Requirement already satisfied: dash-html-components==2.0.0 in /usr/local/lib/python3.10/dist-packages (from dash) (2.0.0)\n",
            "Requirement already satisfied: dash-core-components==2.0.0 in /usr/local/lib/python3.10/dist-packages (from dash) (2.0.0)\n",
            "Requirement already satisfied: dash-table==5.0.0 in /usr/local/lib/python3.10/dist-packages (from dash) (5.0.0)\n",
            "Requirement already satisfied: typing-extensions>=4.1.1 in /usr/local/lib/python3.10/dist-packages (from dash) (4.5.0)\n",
            "Requirement already satisfied: requests in /usr/local/lib/python3.10/dist-packages (from dash) (2.31.0)\n",
            "Requirement already satisfied: retrying in /usr/local/lib/python3.10/dist-packages (from dash) (1.3.4)\n",
            "Requirement already satisfied: ansi2html in /usr/local/lib/python3.10/dist-packages (from dash) (1.8.0)\n",
            "Requirement already satisfied: nest-asyncio in /usr/local/lib/python3.10/dist-packages (from dash) (1.5.8)\n",
            "Requirement already satisfied: setuptools in /usr/local/lib/python3.10/dist-packages (from dash) (67.7.2)\n",
            "Requirement already satisfied: importlib-metadata in /usr/local/lib/python3.10/dist-packages (from dash) (6.8.0)\n",
            "Requirement already satisfied: Jinja2>=3.0 in /usr/local/lib/python3.10/dist-packages (from Flask<3.1,>=1.0.4->dash) (3.1.2)\n",
            "Requirement already satisfied: itsdangerous>=2.0 in /usr/local/lib/python3.10/dist-packages (from Flask<3.1,>=1.0.4->dash) (2.1.2)\n",
            "Requirement already satisfied: click>=8.0 in /usr/local/lib/python3.10/dist-packages (from Flask<3.1,>=1.0.4->dash) (8.1.7)\n",
            "Requirement already satisfied: tenacity>=6.2.0 in /usr/local/lib/python3.10/dist-packages (from plotly>=5.0.0->dash) (8.2.3)\n",
            "Requirement already satisfied: packaging in /usr/local/lib/python3.10/dist-packages (from plotly>=5.0.0->dash) (23.2)\n",
            "Requirement already satisfied: MarkupSafe>=2.1.1 in /usr/local/lib/python3.10/dist-packages (from Werkzeug<3.1->dash) (2.1.3)\n",
            "Requirement already satisfied: zipp>=0.5 in /usr/local/lib/python3.10/dist-packages (from importlib-metadata->dash) (3.17.0)\n",
            "Requirement already satisfied: charset-normalizer<4,>=2 in /usr/local/lib/python3.10/dist-packages (from requests->dash) (3.3.2)\n",
            "Requirement already satisfied: idna<4,>=2.5 in /usr/local/lib/python3.10/dist-packages (from requests->dash) (3.6)\n",
            "Requirement already satisfied: urllib3<3,>=1.21.1 in /usr/local/lib/python3.10/dist-packages (from requests->dash) (2.0.7)\n",
            "Requirement already satisfied: certifi>=2017.4.17 in /usr/local/lib/python3.10/dist-packages (from requests->dash) (2023.11.17)\n",
            "Requirement already satisfied: six>=1.7.0 in /usr/local/lib/python3.10/dist-packages (from retrying->dash) (1.16.0)\n"
          ]
        }
      ],
      "source": [
        "!pip install dash\n",
        "from dash import Dash, html, dcc, callback, Output, Input\n",
        "import plotly.express as px"
      ]
    },
    {
      "cell_type": "code",
      "execution_count": 18,
      "metadata": {
        "colab": {
          "base_uri": "https://localhost:8080/",
          "height": 671
        },
        "id": "AAlC5BC5QYbt",
        "outputId": "e79da9ce-105d-41b5-d358-e27131ff0baf"
      },
      "outputs": [
        {
          "output_type": "display_data",
          "data": {
            "text/plain": [
              "<IPython.core.display.Javascript object>"
            ],
            "application/javascript": [
              "(async (port, path, width, height, cache, element) => {\n",
              "    if (!google.colab.kernel.accessAllowed && !cache) {\n",
              "      return;\n",
              "    }\n",
              "    element.appendChild(document.createTextNode(''));\n",
              "    const url = await google.colab.kernel.proxyPort(port, {cache});\n",
              "    const iframe = document.createElement('iframe');\n",
              "    iframe.src = new URL(path, url).toString();\n",
              "    iframe.height = height;\n",
              "    iframe.width = width;\n",
              "    iframe.style.border = 0;\n",
              "    iframe.allow = [\n",
              "        'accelerometer',\n",
              "        'autoplay',\n",
              "        'camera',\n",
              "        'clipboard-read',\n",
              "        'clipboard-write',\n",
              "        'gyroscope',\n",
              "        'magnetometer',\n",
              "        'microphone',\n",
              "        'serial',\n",
              "        'usb',\n",
              "        'xr-spatial-tracking',\n",
              "    ].join('; ');\n",
              "    element.appendChild(iframe);\n",
              "  })(8050, \"/\", \"100%\", 650, false, window.element)"
            ]
          },
          "metadata": {}
        }
      ],
      "source": [
        "from dash import Dash, dcc, html, Input, Output, callback\n",
        "import plotly.express as px\n",
        "from scipy.interpolate import griddata\n",
        "from scipy.ndimage import gaussian_filter\n",
        "import plotly.graph_objects as go\n",
        "import numpy as np\n",
        "\n",
        "import pandas as pd\n",
        "\n",
        "cluster_names = {0:\"Kmeans\", 1:\"Minibatch Kmeans++\", 2:\"BIRCH\"}\n",
        "discount_names = {0:\"0.001\", 1:\"0.01\", 2:\"0.3\", 3:\"0.9\"}\n",
        "smoothing_names = {0:\"1e-06\", 1:\"0.3\", 2:\"1\"}\n",
        "\n",
        "maxes = {0: 10, 1: 10, 2: 80}\n",
        "\n",
        "app1 = Dash(__name__)\n",
        "\n",
        "app1.layout = html.Div([\n",
        "    html.Div([\n",
        "\n",
        "        html.Div([\n",
        "            dcc.Dropdown(\n",
        "                k_df.columns.unique(),\n",
        "                'respiratory_rate',\n",
        "                id='xaxis-column'\n",
        "            ),\n",
        "        ], style={'width': '48%', 'display': 'inline-block'}),\n",
        "\n",
        "        html.Div([\n",
        "            dcc.Dropdown(\n",
        "                k_df.columns.unique(),\n",
        "                'heart_rate',\n",
        "                id='yaxis-column'\n",
        "            ),\n",
        "        ], style={'width': '48%', 'float': 'right', 'display': 'inline-block'})\n",
        "    ]),\n",
        "    dcc.Graph(id='indicator-graphic'),\n",
        "    html.H4('Clustering Algorithm'),\n",
        "    dcc.Slider(0, 2, value=1,\n",
        "        id='cluster-slider',\n",
        "               step=1,\n",
        "        marks={str(key): str(value) for key, value in cluster_names.items()},\n",
        "\n",
        "    ),\n",
        "    html.H4('Discount Factor of Max Causal Entropy Algorithm'),\n",
        "    dcc.Slider(0, 3, value=1,\n",
        "        id='discount-slider',\n",
        "               step=1,\n",
        "        marks={str(key): str(value) for key, value in discount_names.items()},\n",
        "\n",
        "    ),\n",
        "    html.H4('Smoothing Value for Creating Transition Dynamics'),\n",
        "    dcc.Slider(0, 2, value=1,\n",
        "        id='smoothing-slider',\n",
        "               step=1,\n",
        "        marks={str(key): str(value) for key, value in smoothing_names.items()},\n",
        "\n",
        "    ),\n",
        "    html.H4('Training Epoch'),\n",
        "    dcc.Slider(0, 4129, value=4129,\n",
        "        id='epoch-slider',\n",
        "               step=1,\n",
        "        marks={str(key - 1): str(key) for key in [1, 4130]},\n",
        "\n",
        "    ),\n",
        "\n",
        "])\n",
        "\n",
        "\n",
        "@callback(\n",
        "    Output('indicator-graphic', 'figure'),\n",
        "    Input('xaxis-column', 'value'),\n",
        "    Input('yaxis-column', 'value'),\n",
        "    Input('cluster-slider', 'value'),\n",
        "    Input('discount-slider', 'value'),\n",
        "    Input('smoothing-slider', 'value'),\n",
        "    Input('epoch-slider', 'value'),\n",
        "    )\n",
        "def update_graph(xaxis_column_name, yaxis_column_name, cluster, discount, smoothing, epoch):\n",
        "\n",
        "    cluster_dict = {0: \"kmeans\", 1: \"minibatch\", 2: \"birch\"}\n",
        "\n",
        "    x = cluster_summaries[cluster_dict[cluster]][xaxis_column_name]\n",
        "    y = cluster_summaries[cluster_dict[cluster]][yaxis_column_name]\n",
        "    z = data_directory[cluster_dict[cluster]][discount_names[discount]][smoothing_names[smoothing]][epoch]\n",
        "\n",
        "    zi_last = data_directory[cluster_dict[cluster]][discount_names[discount]][smoothing_names[smoothing]][-1]\n",
        "\n",
        "\n",
        "    xi = np.linspace(min(x), max(x), 100)\n",
        "    yi = np.linspace(min(y), max(y), 100)\n",
        "    xi, yi = np.meshgrid(xi, yi)\n",
        "\n",
        "    zi = griddata((x, y), z, (xi, yi), method='nearest')\n",
        "\n",
        "    zi = gaussian_filter(zi, sigma=3)\n",
        "\n",
        "    zi = np.nan_to_num(zi)\n",
        "\n",
        "    zi_last = griddata((x, y), zi_last, (xi, yi), method='nearest')\n",
        "\n",
        "    zi_last = gaussian_filter(zi_last, sigma=0)\n",
        "\n",
        "    zi_last = np.nan_to_num(zi_last)\n",
        "\n",
        "    z_max = maxes[cluster]\n",
        "\n",
        "    layout = go.Layout(\n",
        "        scene=dict(\n",
        "            zaxis=dict(\n",
        "                range=[0, z_max],  # Set the Z-axis range here,\n",
        "                title=\"Reward\"\n",
        "            ),\n",
        "            xaxis_title=xaxis_column_name,\n",
        "            yaxis_title=yaxis_column_name\n",
        "\n",
        "        )\n",
        "    )\n",
        "\n",
        "    # Create the 3D scatter plot\n",
        "    fig = go.Figure(data=[go.Surface(x=xi, y=yi, z=zi, cmax=z_max,\n",
        "                  hovertemplate =\n",
        "                  xaxis_column_name+': %{x:.2f}<br>'+\n",
        "                  yaxis_column_name+': %{y:.2f}<br>'+\n",
        "                  '<br>Reward: %{z}<br>')],\n",
        "                    layout=layout)\n",
        "\n",
        "    # Update plot appearance for a smoother look\n",
        "    fig.update_traces(contours_z=dict(show=True, usecolormap=True, highlightcolor=\"limegreen\", project_z=True))\n",
        "\n",
        "    fig.update_traces(\n",
        "    colorbar=dict(\n",
        "        title='Reward', # Title of the colorbar\n",
        "        tickvals=[1, 15, 25], # Positions at which ticks should be displayed\n",
        "    )\n",
        ")\n",
        "\n",
        "    fig.update_yaxes(title='x', visible=True, showticklabels=False)\n",
        "\n",
        "    return fig\n",
        "\n",
        "\n",
        "app1.run(debug=True)\n"
      ]
    },
    {
      "cell_type": "code",
      "execution_count": 7,
      "metadata": {
        "colab": {
          "base_uri": "https://localhost:8080/",
          "height": 245
        },
        "id": "GVynATnmYaP8",
        "outputId": "b20d6aed-84b3-45b0-89b4-c1f257b01782"
      },
      "outputs": [
        {
          "output_type": "error",
          "ename": "NameError",
          "evalue": "ignored",
          "traceback": [
            "\u001b[0;31m---------------------------------------------------------------------------\u001b[0m",
            "\u001b[0;31mNameError\u001b[0m                                 Traceback (most recent call last)",
            "\u001b[0;32m<ipython-input-7-31a06a063bd4>\u001b[0m in \u001b[0;36m<cell line: 1>\u001b[0;34m()\u001b[0m\n\u001b[0;32m----> 1\u001b[0;31m \u001b[0mxi\u001b[0m \u001b[0;34m=\u001b[0m \u001b[0mnp\u001b[0m\u001b[0;34m.\u001b[0m\u001b[0mlinspace\u001b[0m\u001b[0;34m(\u001b[0m\u001b[0mmin\u001b[0m\u001b[0;34m(\u001b[0m\u001b[0mx\u001b[0m\u001b[0;34m)\u001b[0m\u001b[0;34m,\u001b[0m \u001b[0mmax\u001b[0m\u001b[0;34m(\u001b[0m\u001b[0mx\u001b[0m\u001b[0;34m)\u001b[0m\u001b[0;34m,\u001b[0m \u001b[0;36m100\u001b[0m\u001b[0;34m)\u001b[0m\u001b[0;34m\u001b[0m\u001b[0;34m\u001b[0m\u001b[0m\n\u001b[0m\u001b[1;32m      2\u001b[0m \u001b[0myi\u001b[0m \u001b[0;34m=\u001b[0m \u001b[0mnp\u001b[0m\u001b[0;34m.\u001b[0m\u001b[0mlinspace\u001b[0m\u001b[0;34m(\u001b[0m\u001b[0mmin\u001b[0m\u001b[0;34m(\u001b[0m\u001b[0my\u001b[0m\u001b[0;34m)\u001b[0m\u001b[0;34m,\u001b[0m \u001b[0mmax\u001b[0m\u001b[0;34m(\u001b[0m\u001b[0my\u001b[0m\u001b[0;34m)\u001b[0m\u001b[0;34m,\u001b[0m \u001b[0;36m100\u001b[0m\u001b[0;34m)\u001b[0m\u001b[0;34m\u001b[0m\u001b[0;34m\u001b[0m\u001b[0m\n\u001b[1;32m      3\u001b[0m \u001b[0mxi\u001b[0m\u001b[0;34m,\u001b[0m \u001b[0myi\u001b[0m \u001b[0;34m=\u001b[0m \u001b[0mnp\u001b[0m\u001b[0;34m.\u001b[0m\u001b[0mmeshgrid\u001b[0m\u001b[0;34m(\u001b[0m\u001b[0mxi\u001b[0m\u001b[0;34m,\u001b[0m \u001b[0myi\u001b[0m\u001b[0;34m)\u001b[0m\u001b[0;34m\u001b[0m\u001b[0;34m\u001b[0m\u001b[0m\n\u001b[1;32m      4\u001b[0m \u001b[0;34m\u001b[0m\u001b[0m\n\u001b[1;32m      5\u001b[0m \u001b[0mzi_last\u001b[0m \u001b[0;34m=\u001b[0m \u001b[0mdata_directory\u001b[0m\u001b[0;34m[\u001b[0m\u001b[0;34m'kmeans'\u001b[0m\u001b[0;34m]\u001b[0m\u001b[0;34m[\u001b[0m\u001b[0;34m'0.3'\u001b[0m\u001b[0;34m]\u001b[0m\u001b[0;34m[\u001b[0m\u001b[0;34m'0.3'\u001b[0m\u001b[0;34m]\u001b[0m\u001b[0;34m[\u001b[0m\u001b[0;34m-\u001b[0m\u001b[0;36m1\u001b[0m\u001b[0;34m]\u001b[0m\u001b[0;34m\u001b[0m\u001b[0;34m\u001b[0m\u001b[0m\n",
            "\u001b[0;31mNameError\u001b[0m: name 'x' is not defined"
          ]
        }
      ],
      "source": [
        "\n",
        "\n",
        "xi = np.linspace(min(x), max(x), 100)\n",
        "yi = np.linspace(min(y), max(y), 100)\n",
        "xi, yi = np.meshgrid(xi, yi)\n",
        "\n",
        "zi_last = data_directory['kmeans']['0.3']['0.3'][-1]\n",
        "\n",
        "zi_last = griddata((x, y), zi_last, (xi, yi), method='nearest')\n",
        "\n",
        "zi_last = gaussian_filter(zi_last, sigma=3)\n",
        "\n",
        "zi_last = np.nan_to_num(zi_last)\n",
        "max(max(zi_last.tolist()))"
      ]
    },
    {
      "cell_type": "code",
      "execution_count": null,
      "metadata": {
        "id": "6aRgKZp9pt5Y"
      },
      "outputs": [],
      "source": [
        "x = cluster_summaries['kmeans']['heart_rate']\n",
        "y = cluster_summaries['kmeans']['respiratory_rate']\n",
        "z = data_directory['kmeans']['0.3']['0.3'][-1]\n",
        "\n",
        "z_max = int(max(z)) + 5\n",
        "\n",
        "layout = go.Layout(\n",
        "        scene=dict(\n",
        "            zaxis=dict(\n",
        "                range=[0, z_max],  # Set the Z-axis range here,\n",
        "                title=\"Reward\"\n",
        "            ),\n",
        "            xaxis_title=xaxis_column_name,\n",
        "            yaxis_title=yaxis_column_name\n",
        "\n",
        "        )\n",
        "    )\n",
        "\n",
        "xaxis_column_name = '1'\n",
        "yaxis_column_name = '1'\n",
        "\n",
        "go.Figure(data=[go.Mesh3d(x=x,\n",
        "                   y=y,\n",
        "                   z=z,\n",
        "                   opacity=0.5,\n",
        "                   color='rgba(244,22,100,0.6)',\n",
        "                  hovertemplate =\n",
        "                  xaxis_column_name+': %{y:.2f}<br>'+\n",
        "                  yaxis_column_name+': %{x}<br>'+\n",
        "                  '<br>Reward: %{z}<br>')],\n",
        "                    layout=layout)"
      ]
    },
    {
      "cell_type": "code",
      "source": [
        "y[np.argmax(z)]"
      ],
      "metadata": {
        "id": "pIhd8X04w13K"
      },
      "execution_count": null,
      "outputs": []
    },
    {
      "cell_type": "code",
      "execution_count": null,
      "metadata": {
        "id": "ybLx9hGbUZvy"
      },
      "outputs": [],
      "source": [
        "x = cluster_summaries['kmeans']['heart_rate']\n",
        "y = cluster_summaries['kmeans']['respiratory_rate']\n",
        "z = data_directory['kmeans']['0.3']['0.3'][-1]\n",
        "\n",
        "xi = np.linspace(min(x), max(x), 100)\n",
        "yi = np.linspace(min(y), max(y), 100)\n",
        "xi, yi = np.meshgrid(xi, yi)\n",
        "\n",
        "zi = griddata((x, y), z, (xi, yi), method='nearest')\n",
        "\n",
        "zi = gaussian_filter(zi, sigma=2)\n",
        "\n",
        "zi = np.nan_to_num(zi)\n",
        "print(zi[1])\n",
        "\n",
        "z_max = int(max(zi[0]) + 0.5)\n",
        "\n",
        "layout = go.Layout(\n",
        "        scene=dict(\n",
        "            zaxis=dict(\n",
        "                range=[0, z_max]  # Set the Z-axis range here\n",
        "            )\n",
        "        )\n",
        "    )\n",
        "\n",
        "# Create the 3D scatter plot\n",
        "fig = go.Figure(data=[go.Surface(x=xi, y=yi, z=zi)])\n",
        "\n",
        "fig.update_layout(title='Rewards for different combinations of heart_rate and respiratory_rate', autosize=False,\n",
        "                  width=700, height=700,\n",
        "                  margin=dict(l=65, r=50, b=65, t=90))\n",
        "\n",
        "fig.show()"
      ]
    },
    {
      "cell_type": "code",
      "execution_count": null,
      "metadata": {
        "id": "IYWcC4qEyRxC"
      },
      "outputs": [],
      "source": [
        "cluster_summaries['kmeans']['heart_rate'][41]"
      ]
    },
    {
      "cell_type": "code",
      "execution_count": null,
      "metadata": {
        "id": "JaZubhT4ynIW"
      },
      "outputs": [],
      "source": [
        "data_directory['minibatch']['0.3']['0.3'][-1][57]"
      ]
    },
    {
      "cell_type": "code",
      "execution_count": null,
      "metadata": {
        "id": "rsJkPtbVX_RZ"
      },
      "outputs": [],
      "source": [
        "import matplotlib.pyplot as plt\n",
        "from mpl_toolkits.mplot3d import Axes3D\n",
        "import numpy as np\n",
        "\n",
        "# Define the function that you want to plot\n",
        "def f(x, y):\n",
        "    return np.sin(np.sqrt(x ** 2 + y ** 2))\n",
        "\n",
        "# Create a grid of values\n",
        "x = np.linspace(-5, 5, 50)\n",
        "y = np.linspace(-5, 5, 50)\n",
        "x, y = np.meshgrid(x, y)\n",
        "z = f(x, y)\n",
        "\n",
        "# Create the figure and 3D axis\n",
        "fig = plt.figure(figsize=(10, 7))\n",
        "ax = fig.add_subplot(111, projection='3d')\n",
        "\n",
        "# Plot the surface\n",
        "surf = ax.plot_surface(x, y, z, cmap='viridis')\n",
        "\n",
        "# Add a color bar which maps values to colors\n",
        "fig.colorbar(surf, shrink=0.5, aspect=5)\n",
        "\n",
        "plt.show()"
      ]
    }
  ],
  "metadata": {
    "colab": {
      "provenance": []
    },
    "kernelspec": {
      "display_name": "Python 3",
      "name": "python3"
    },
    "language_info": {
      "name": "python"
    }
  },
  "nbformat": 4,
  "nbformat_minor": 0
}